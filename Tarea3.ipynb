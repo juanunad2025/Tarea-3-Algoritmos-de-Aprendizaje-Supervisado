{
 "cells": [
  {
   "cell_type": "code",
   "execution_count": 1,
   "id": "8d6b439f-6276-4aa5-afb6-4add17356f92",
   "metadata": {},
   "outputs": [],
   "source": [
    "import pandas as pd\n",
    "import numpy as np\n",
    "import seaborn as sns\n",
    "import matplotlib.pyplot as plt\n",
    "from sklearn import metrics\n",
    "from sklearn.model_selection import train_test_split\n",
    "from sklearn.linear_model import LogisticRegression\n",
    "from sklearn.metrics import classification_report, confusion_matrix"
   ]
  },
  {
   "cell_type": "code",
   "execution_count": 7,
   "id": "19512810-3b27-48d0-bf9d-ffd0ab36b06c",
   "metadata": {},
   "outputs": [],
   "source": [
    "Datos = pd.read_csv('C:/Users/JUAN PABLO/OneDrive/Documentos/7-SEMESTRE/heart_cleveland_upload.csv')"
   ]
  },
  {
   "cell_type": "code",
   "execution_count": 61,
   "id": "1563885d-83a4-4528-aefc-79320c049b60",
   "metadata": {},
   "outputs": [
    {
     "data": {
      "text/html": [
       "<div>\n",
       "<style scoped>\n",
       "    .dataframe tbody tr th:only-of-type {\n",
       "        vertical-align: middle;\n",
       "    }\n",
       "\n",
       "    .dataframe tbody tr th {\n",
       "        vertical-align: top;\n",
       "    }\n",
       "\n",
       "    .dataframe thead th {\n",
       "        text-align: right;\n",
       "    }\n",
       "</style>\n",
       "<table border=\"1\" class=\"dataframe\">\n",
       "  <thead>\n",
       "    <tr style=\"text-align: right;\">\n",
       "      <th></th>\n",
       "      <th>age</th>\n",
       "      <th>sex</th>\n",
       "      <th>cp</th>\n",
       "      <th>trestbps</th>\n",
       "      <th>chol</th>\n",
       "      <th>fbs</th>\n",
       "      <th>restecg</th>\n",
       "      <th>thalach</th>\n",
       "      <th>exang</th>\n",
       "      <th>oldpeak</th>\n",
       "      <th>slope</th>\n",
       "      <th>ca</th>\n",
       "      <th>thal</th>\n",
       "      <th>condition</th>\n",
       "    </tr>\n",
       "  </thead>\n",
       "  <tbody>\n",
       "    <tr>\n",
       "      <th>0</th>\n",
       "      <td>69</td>\n",
       "      <td>1</td>\n",
       "      <td>0</td>\n",
       "      <td>160</td>\n",
       "      <td>234</td>\n",
       "      <td>1</td>\n",
       "      <td>2.000000</td>\n",
       "      <td>131</td>\n",
       "      <td>0</td>\n",
       "      <td>0.1</td>\n",
       "      <td>1</td>\n",
       "      <td>1</td>\n",
       "      <td>0</td>\n",
       "      <td>0</td>\n",
       "    </tr>\n",
       "    <tr>\n",
       "      <th>1</th>\n",
       "      <td>69</td>\n",
       "      <td>0</td>\n",
       "      <td>0</td>\n",
       "      <td>140</td>\n",
       "      <td>239</td>\n",
       "      <td>0</td>\n",
       "      <td>0.996633</td>\n",
       "      <td>151</td>\n",
       "      <td>0</td>\n",
       "      <td>1.8</td>\n",
       "      <td>0</td>\n",
       "      <td>2</td>\n",
       "      <td>0</td>\n",
       "      <td>0</td>\n",
       "    </tr>\n",
       "    <tr>\n",
       "      <th>2</th>\n",
       "      <td>66</td>\n",
       "      <td>0</td>\n",
       "      <td>0</td>\n",
       "      <td>150</td>\n",
       "      <td>226</td>\n",
       "      <td>0</td>\n",
       "      <td>0.996633</td>\n",
       "      <td>114</td>\n",
       "      <td>0</td>\n",
       "      <td>2.6</td>\n",
       "      <td>2</td>\n",
       "      <td>0</td>\n",
       "      <td>0</td>\n",
       "      <td>0</td>\n",
       "    </tr>\n",
       "    <tr>\n",
       "      <th>3</th>\n",
       "      <td>65</td>\n",
       "      <td>1</td>\n",
       "      <td>0</td>\n",
       "      <td>138</td>\n",
       "      <td>282</td>\n",
       "      <td>1</td>\n",
       "      <td>2.000000</td>\n",
       "      <td>174</td>\n",
       "      <td>0</td>\n",
       "      <td>1.4</td>\n",
       "      <td>1</td>\n",
       "      <td>1</td>\n",
       "      <td>0</td>\n",
       "      <td>1</td>\n",
       "    </tr>\n",
       "    <tr>\n",
       "      <th>4</th>\n",
       "      <td>64</td>\n",
       "      <td>1</td>\n",
       "      <td>0</td>\n",
       "      <td>110</td>\n",
       "      <td>211</td>\n",
       "      <td>0</td>\n",
       "      <td>2.000000</td>\n",
       "      <td>144</td>\n",
       "      <td>1</td>\n",
       "      <td>1.8</td>\n",
       "      <td>1</td>\n",
       "      <td>0</td>\n",
       "      <td>0</td>\n",
       "      <td>0</td>\n",
       "    </tr>\n",
       "    <tr>\n",
       "      <th>5</th>\n",
       "      <td>64</td>\n",
       "      <td>1</td>\n",
       "      <td>0</td>\n",
       "      <td>170</td>\n",
       "      <td>227</td>\n",
       "      <td>0</td>\n",
       "      <td>2.000000</td>\n",
       "      <td>155</td>\n",
       "      <td>0</td>\n",
       "      <td>0.6</td>\n",
       "      <td>1</td>\n",
       "      <td>0</td>\n",
       "      <td>2</td>\n",
       "      <td>0</td>\n",
       "    </tr>\n",
       "    <tr>\n",
       "      <th>6</th>\n",
       "      <td>63</td>\n",
       "      <td>1</td>\n",
       "      <td>0</td>\n",
       "      <td>145</td>\n",
       "      <td>233</td>\n",
       "      <td>1</td>\n",
       "      <td>2.000000</td>\n",
       "      <td>150</td>\n",
       "      <td>0</td>\n",
       "      <td>2.3</td>\n",
       "      <td>2</td>\n",
       "      <td>0</td>\n",
       "      <td>1</td>\n",
       "      <td>0</td>\n",
       "    </tr>\n",
       "    <tr>\n",
       "      <th>7</th>\n",
       "      <td>61</td>\n",
       "      <td>1</td>\n",
       "      <td>0</td>\n",
       "      <td>134</td>\n",
       "      <td>234</td>\n",
       "      <td>0</td>\n",
       "      <td>0.996633</td>\n",
       "      <td>145</td>\n",
       "      <td>0</td>\n",
       "      <td>2.6</td>\n",
       "      <td>1</td>\n",
       "      <td>2</td>\n",
       "      <td>0</td>\n",
       "      <td>1</td>\n",
       "    </tr>\n",
       "    <tr>\n",
       "      <th>8</th>\n",
       "      <td>60</td>\n",
       "      <td>0</td>\n",
       "      <td>0</td>\n",
       "      <td>150</td>\n",
       "      <td>240</td>\n",
       "      <td>0</td>\n",
       "      <td>0.996633</td>\n",
       "      <td>171</td>\n",
       "      <td>0</td>\n",
       "      <td>0.9</td>\n",
       "      <td>0</td>\n",
       "      <td>0</td>\n",
       "      <td>0</td>\n",
       "      <td>0</td>\n",
       "    </tr>\n",
       "    <tr>\n",
       "      <th>9</th>\n",
       "      <td>59</td>\n",
       "      <td>1</td>\n",
       "      <td>0</td>\n",
       "      <td>178</td>\n",
       "      <td>270</td>\n",
       "      <td>0</td>\n",
       "      <td>2.000000</td>\n",
       "      <td>145</td>\n",
       "      <td>0</td>\n",
       "      <td>4.2</td>\n",
       "      <td>2</td>\n",
       "      <td>0</td>\n",
       "      <td>2</td>\n",
       "      <td>0</td>\n",
       "    </tr>\n",
       "  </tbody>\n",
       "</table>\n",
       "</div>"
      ],
      "text/plain": [
       "   age  sex  cp  trestbps  chol  fbs   restecg  thalach  exang  oldpeak  \\\n",
       "0   69    1   0       160   234    1  2.000000      131      0      0.1   \n",
       "1   69    0   0       140   239    0  0.996633      151      0      1.8   \n",
       "2   66    0   0       150   226    0  0.996633      114      0      2.6   \n",
       "3   65    1   0       138   282    1  2.000000      174      0      1.4   \n",
       "4   64    1   0       110   211    0  2.000000      144      1      1.8   \n",
       "5   64    1   0       170   227    0  2.000000      155      0      0.6   \n",
       "6   63    1   0       145   233    1  2.000000      150      0      2.3   \n",
       "7   61    1   0       134   234    0  0.996633      145      0      2.6   \n",
       "8   60    0   0       150   240    0  0.996633      171      0      0.9   \n",
       "9   59    1   0       178   270    0  2.000000      145      0      4.2   \n",
       "\n",
       "   slope  ca  thal  condition  \n",
       "0      1   1     0          0  \n",
       "1      0   2     0          0  \n",
       "2      2   0     0          0  \n",
       "3      1   1     0          1  \n",
       "4      1   0     0          0  \n",
       "5      1   0     2          0  \n",
       "6      2   0     1          0  \n",
       "7      1   2     0          1  \n",
       "8      0   0     0          0  \n",
       "9      2   0     2          0  "
      ]
     },
     "execution_count": 61,
     "metadata": {},
     "output_type": "execute_result"
    }
   ],
   "source": [
    "Datos.head(10)"
   ]
  },
  {
   "cell_type": "code",
   "execution_count": 11,
   "id": "3cf01289-49d4-4e67-9d64-c381c96d2e1d",
   "metadata": {},
   "outputs": [
    {
     "data": {
      "text/html": [
       "<div>\n",
       "<style scoped>\n",
       "    .dataframe tbody tr th:only-of-type {\n",
       "        vertical-align: middle;\n",
       "    }\n",
       "\n",
       "    .dataframe tbody tr th {\n",
       "        vertical-align: top;\n",
       "    }\n",
       "\n",
       "    .dataframe thead th {\n",
       "        text-align: right;\n",
       "    }\n",
       "</style>\n",
       "<table border=\"1\" class=\"dataframe\">\n",
       "  <thead>\n",
       "    <tr style=\"text-align: right;\">\n",
       "      <th></th>\n",
       "      <th>age</th>\n",
       "      <th>sex</th>\n",
       "      <th>cp</th>\n",
       "      <th>trestbps</th>\n",
       "      <th>chol</th>\n",
       "      <th>fbs</th>\n",
       "      <th>restecg</th>\n",
       "      <th>thalach</th>\n",
       "      <th>exang</th>\n",
       "      <th>oldpeak</th>\n",
       "      <th>slope</th>\n",
       "      <th>ca</th>\n",
       "      <th>thal</th>\n",
       "      <th>condition</th>\n",
       "    </tr>\n",
       "  </thead>\n",
       "  <tbody>\n",
       "    <tr>\n",
       "      <th>count</th>\n",
       "      <td>297.000000</td>\n",
       "      <td>297.000000</td>\n",
       "      <td>297.000000</td>\n",
       "      <td>297.000000</td>\n",
       "      <td>297.000000</td>\n",
       "      <td>297.000000</td>\n",
       "      <td>297.000000</td>\n",
       "      <td>297.000000</td>\n",
       "      <td>297.000000</td>\n",
       "      <td>297.000000</td>\n",
       "      <td>297.000000</td>\n",
       "      <td>297.000000</td>\n",
       "      <td>297.000000</td>\n",
       "      <td>297.000000</td>\n",
       "    </tr>\n",
       "    <tr>\n",
       "      <th>mean</th>\n",
       "      <td>54.542088</td>\n",
       "      <td>0.676768</td>\n",
       "      <td>2.158249</td>\n",
       "      <td>131.693603</td>\n",
       "      <td>247.350168</td>\n",
       "      <td>0.144781</td>\n",
       "      <td>0.996633</td>\n",
       "      <td>149.599327</td>\n",
       "      <td>0.326599</td>\n",
       "      <td>1.055556</td>\n",
       "      <td>0.602694</td>\n",
       "      <td>0.676768</td>\n",
       "      <td>0.835017</td>\n",
       "      <td>0.461279</td>\n",
       "    </tr>\n",
       "    <tr>\n",
       "      <th>std</th>\n",
       "      <td>9.049736</td>\n",
       "      <td>0.468500</td>\n",
       "      <td>0.964859</td>\n",
       "      <td>17.762806</td>\n",
       "      <td>51.997583</td>\n",
       "      <td>0.352474</td>\n",
       "      <td>0.994914</td>\n",
       "      <td>22.941562</td>\n",
       "      <td>0.469761</td>\n",
       "      <td>1.166123</td>\n",
       "      <td>0.618187</td>\n",
       "      <td>0.938965</td>\n",
       "      <td>0.956690</td>\n",
       "      <td>0.499340</td>\n",
       "    </tr>\n",
       "    <tr>\n",
       "      <th>min</th>\n",
       "      <td>29.000000</td>\n",
       "      <td>0.000000</td>\n",
       "      <td>0.000000</td>\n",
       "      <td>94.000000</td>\n",
       "      <td>126.000000</td>\n",
       "      <td>0.000000</td>\n",
       "      <td>0.000000</td>\n",
       "      <td>71.000000</td>\n",
       "      <td>0.000000</td>\n",
       "      <td>0.000000</td>\n",
       "      <td>0.000000</td>\n",
       "      <td>0.000000</td>\n",
       "      <td>0.000000</td>\n",
       "      <td>0.000000</td>\n",
       "    </tr>\n",
       "    <tr>\n",
       "      <th>25%</th>\n",
       "      <td>48.000000</td>\n",
       "      <td>0.000000</td>\n",
       "      <td>2.000000</td>\n",
       "      <td>120.000000</td>\n",
       "      <td>211.000000</td>\n",
       "      <td>0.000000</td>\n",
       "      <td>0.000000</td>\n",
       "      <td>133.000000</td>\n",
       "      <td>0.000000</td>\n",
       "      <td>0.000000</td>\n",
       "      <td>0.000000</td>\n",
       "      <td>0.000000</td>\n",
       "      <td>0.000000</td>\n",
       "      <td>0.000000</td>\n",
       "    </tr>\n",
       "    <tr>\n",
       "      <th>50%</th>\n",
       "      <td>56.000000</td>\n",
       "      <td>1.000000</td>\n",
       "      <td>2.000000</td>\n",
       "      <td>130.000000</td>\n",
       "      <td>243.000000</td>\n",
       "      <td>0.000000</td>\n",
       "      <td>1.000000</td>\n",
       "      <td>153.000000</td>\n",
       "      <td>0.000000</td>\n",
       "      <td>0.800000</td>\n",
       "      <td>1.000000</td>\n",
       "      <td>0.000000</td>\n",
       "      <td>0.000000</td>\n",
       "      <td>0.000000</td>\n",
       "    </tr>\n",
       "    <tr>\n",
       "      <th>75%</th>\n",
       "      <td>61.000000</td>\n",
       "      <td>1.000000</td>\n",
       "      <td>3.000000</td>\n",
       "      <td>140.000000</td>\n",
       "      <td>276.000000</td>\n",
       "      <td>0.000000</td>\n",
       "      <td>2.000000</td>\n",
       "      <td>166.000000</td>\n",
       "      <td>1.000000</td>\n",
       "      <td>1.600000</td>\n",
       "      <td>1.000000</td>\n",
       "      <td>1.000000</td>\n",
       "      <td>2.000000</td>\n",
       "      <td>1.000000</td>\n",
       "    </tr>\n",
       "    <tr>\n",
       "      <th>max</th>\n",
       "      <td>77.000000</td>\n",
       "      <td>1.000000</td>\n",
       "      <td>3.000000</td>\n",
       "      <td>200.000000</td>\n",
       "      <td>564.000000</td>\n",
       "      <td>1.000000</td>\n",
       "      <td>2.000000</td>\n",
       "      <td>202.000000</td>\n",
       "      <td>1.000000</td>\n",
       "      <td>6.200000</td>\n",
       "      <td>2.000000</td>\n",
       "      <td>3.000000</td>\n",
       "      <td>2.000000</td>\n",
       "      <td>1.000000</td>\n",
       "    </tr>\n",
       "  </tbody>\n",
       "</table>\n",
       "</div>"
      ],
      "text/plain": [
       "              age         sex          cp    trestbps        chol         fbs  \\\n",
       "count  297.000000  297.000000  297.000000  297.000000  297.000000  297.000000   \n",
       "mean    54.542088    0.676768    2.158249  131.693603  247.350168    0.144781   \n",
       "std      9.049736    0.468500    0.964859   17.762806   51.997583    0.352474   \n",
       "min     29.000000    0.000000    0.000000   94.000000  126.000000    0.000000   \n",
       "25%     48.000000    0.000000    2.000000  120.000000  211.000000    0.000000   \n",
       "50%     56.000000    1.000000    2.000000  130.000000  243.000000    0.000000   \n",
       "75%     61.000000    1.000000    3.000000  140.000000  276.000000    0.000000   \n",
       "max     77.000000    1.000000    3.000000  200.000000  564.000000    1.000000   \n",
       "\n",
       "          restecg     thalach       exang     oldpeak       slope          ca  \\\n",
       "count  297.000000  297.000000  297.000000  297.000000  297.000000  297.000000   \n",
       "mean     0.996633  149.599327    0.326599    1.055556    0.602694    0.676768   \n",
       "std      0.994914   22.941562    0.469761    1.166123    0.618187    0.938965   \n",
       "min      0.000000   71.000000    0.000000    0.000000    0.000000    0.000000   \n",
       "25%      0.000000  133.000000    0.000000    0.000000    0.000000    0.000000   \n",
       "50%      1.000000  153.000000    0.000000    0.800000    1.000000    0.000000   \n",
       "75%      2.000000  166.000000    1.000000    1.600000    1.000000    1.000000   \n",
       "max      2.000000  202.000000    1.000000    6.200000    2.000000    3.000000   \n",
       "\n",
       "             thal   condition  \n",
       "count  297.000000  297.000000  \n",
       "mean     0.835017    0.461279  \n",
       "std      0.956690    0.499340  \n",
       "min      0.000000    0.000000  \n",
       "25%      0.000000    0.000000  \n",
       "50%      0.000000    0.000000  \n",
       "75%      2.000000    1.000000  \n",
       "max      2.000000    1.000000  "
      ]
     },
     "execution_count": 11,
     "metadata": {},
     "output_type": "execute_result"
    }
   ],
   "source": [
    "Datos.describe()"
   ]
  },
  {
   "cell_type": "code",
   "execution_count": 27,
   "id": "bac705ac-f78e-4b98-aa58-5567fdfc664a",
   "metadata": {},
   "outputs": [
    {
     "data": {
      "text/plain": [
       "Text(0.5, 1.0, 'Identificación de Datos Faltantes y Atípicos - Presión arterial en reposo')"
      ]
     },
     "execution_count": 27,
     "metadata": {},
     "output_type": "execute_result"
    },
    {
     "data": {
      "image/png": "[encoded data removed]",
      "text/plain": [
       "<Figure size 600x300 with 1 Axes>"
      ]
     },
     "metadata": {},
     "output_type": "display_data"
    }
   ],
   "source": [
    "plt.figure(figsize=(6, 3))\n",
    "sns.boxplot(x=Datos['trestbps'])\n",
    "plt.title('Identificación de Datos Faltantes y Atípicos - Presión arterial en reposo', fontsize=10 )"
   ]
  },
  {
   "cell_type": "code",
   "execution_count": 29,
   "id": "0980e49b-03ef-423b-8a88-36c011fb7157",
   "metadata": {},
   "outputs": [
    {
     "data": {
      "text/plain": [
       "Text(0.5, 1.0, 'Identificación de Datos Faltantes y Atípicos - colesterol')"
      ]
     },
     "execution_count": 29,
     "metadata": {},
     "output_type": "execute_result"
    },
    {
     "data": {
      "image/png": "[encoded data removed]",
      "text/plain": [
       "<Figure size 600x300 with 1 Axes>"
      ]
     },
     "metadata": {},
     "output_type": "display_data"
    }
   ],
   "source": [
    "plt.figure(figsize=(6, 3))\n",
    "sns.boxplot(x=Datos['chol'])\n",
    "plt.title('Identificación de Datos Faltantes y Atípicos - colesterol', fontsize=10 )"
   ]
  },
  {
   "cell_type": "code",
   "execution_count": 31,
   "id": "4495cd7b-6299-4a9f-916b-dec66a8c0fcf",
   "metadata": {},
   "outputs": [
    {
     "data": {
      "text/plain": [
       "Text(0.5, 1.0, 'Identificación de Datos Faltantes y Atípicos - presión del ST en ejercicio')"
      ]
     },
     "execution_count": 31,
     "metadata": {},
     "output_type": "execute_result"
    },
    {
     "data": {
      "image/png": "[encoded data removed]",
      "text/plain": [
       "<Figure size 600x300 with 1 Axes>"
      ]
     },
     "metadata": {},
     "output_type": "display_data"
    }
   ],
   "source": [
    "plt.figure(figsize=(6, 3))\n",
    "sns.boxplot(x=Datos['oldpeak'])\n",
    "plt.title('Identificación de Datos Faltantes y Atípicos - presión del ST en ejercicio', fontsize=10 )"
   ]
  },
  {
   "cell_type": "code",
   "execution_count": 17,
   "id": "cefc3097-4978-4e0f-91de-7aa7804d0d29",
   "metadata": {},
   "outputs": [
    {
     "data": {
      "text/plain": [
       "Text(0.5, 1.0, 'Identificación de Edad')"
      ]
     },
     "execution_count": 17,
     "metadata": {},
     "output_type": "execute_result"
    },
    {
     "data": {
      "image/png": "[encoded data removed]",
      "text/plain": [
       "<Figure size 600x300 with 1 Axes>"
      ]
     },
     "metadata": {},
     "output_type": "display_data"
    }
   ],
   "source": [
    "plt.figure(figsize=(6, 3))\n",
    "sns.boxplot(x=Datos['age'])\n",
    "plt.title('Identificación de Edad', fontsize=10 )"
   ]
  },
  {
   "cell_type": "code",
   "execution_count": 33,
   "id": "7a72aaeb-928d-478e-b6fd-70b9cf50c517",
   "metadata": {},
   "outputs": [
    {
     "name": "stdout",
     "output_type": "stream",
     "text": [
      "Cantidad de Registros con cero en Nivel de colesterol:  0\n",
      "Cantidad de Registros con cero en glucemia en ayunas:  254\n",
      "Cantidad de Registros con cero en electrocardiográfico en reposo:  147\n",
      "Cantidad de Registros con cero en Presión arterial en reposo:  0\n",
      "Cantidad de Registros con cero en frecuencia cardiaca máxima:  0\n"
     ]
    }
   ],
   "source": [
    "print(\"Cantidad de Registros con cero en Nivel de colesterol: \",Datos['chol'].isin([0]).sum())\n",
    "print(\"Cantidad de Registros con cero en glucemia en ayunas: \",Datos['fbs'].isin([0]).sum())\n",
    "print(\"Cantidad de Registros con cero en electrocardiográfico en reposo: \",Datos['restecg'].isin([0]).sum())\n",
    "print(\"Cantidad de Registros con cero en Presión arterial en reposo: \",Datos['trestbps'].isin([0]).sum())\n",
    "print(\"Cantidad de Registros con cero en frecuencia cardiaca máxima: \",Datos['thalach'].isin([0]).sum())"
   ]
  },
  {
   "cell_type": "code",
   "execution_count": 35,
   "id": "169a4100-eaa0-410b-b640-0836a794d6a7",
   "metadata": {},
   "outputs": [],
   "source": [
    "# Reemplazar solo el valor de restecg, se cambio este valor de 0 examenes tomados a minimo 1 examen para los paciente del estudio:\n",
    "Datos['restecg']=Datos['restecg'].replace(0,Datos['restecg'].mean())"
   ]
  },
  {
   "cell_type": "code",
   "execution_count": 37,
   "id": "af68eb73-818d-415d-9378-365896cbfaf5",
   "metadata": {},
   "outputs": [
    {
     "name": "stdout",
     "output_type": "stream",
     "text": [
      "Cantidad de Registros con cero en Nivel de colesterol:  0\n",
      "Cantidad de Registros con cero en glucemia en ayunas:  254\n",
      "Cantidad de Registros con cero en electrocardiográfico en reposo:  0\n",
      "Cantidad de Registros con cero en Presión arterial en reposo:  0\n",
      "Cantidad de Registros con cero en frecuencia cardiaca máxima:  0\n"
     ]
    }
   ],
   "source": [
    "print(\"Cantidad de Registros con cero en Nivel de colesterol: \",Datos['chol'].isin([0]).sum())\n",
    "print(\"Cantidad de Registros con cero en glucemia en ayunas: \",Datos['fbs'].isin([0]).sum())\n",
    "print(\"Cantidad de Registros con cero en electrocardiográfico en reposo: \",Datos['restecg'].isin([0]).sum())\n",
    "print(\"Cantidad de Registros con cero en Presión arterial en reposo: \",Datos['trestbps'].isin([0]).sum())\n",
    "print(\"Cantidad de Registros con cero en frecuencia cardiaca máxima: \",Datos['thalach'].isin([0]).sum())"
   ]
  },
  {
   "cell_type": "code",
   "execution_count": 47,
   "id": "2c46fc6a-05e8-4550-8d13-789c7972a8bb",
   "metadata": {},
   "outputs": [
    {
     "name": "stdout",
     "output_type": "stream",
     "text": [
      "El total de datos atípicos es 1\n"
     ]
    }
   ],
   "source": [
    "#Conteo de Datos Atípicos - colesterol\n",
    "\n",
    "nivel_minimo=40\n",
    "nivel_maximo=500\n",
    "Total_Atipicos=((Datos['chol']<nivel_minimo)|(Datos['chol']>nivel_maximo)).sum()\n",
    "print(\"El total de datos atípicos es {}\".format(Total_Atipicos))"
   ]
  },
  {
   "cell_type": "code",
   "execution_count": 49,
   "id": "4a283655-9d48-41bf-b4ca-dd0b22d08128",
   "metadata": {},
   "outputs": [],
   "source": [
    "# Filtra Datos Atípicos\n",
    "\n",
    "Datos=Datos[(Datos['chol']<nivel_maximo)&(Datos['chol']>nivel_minimo)]"
   ]
  },
  {
   "cell_type": "code",
   "execution_count": 55,
   "id": "93c54208-5399-4561-9da4-32f0d3b541cf",
   "metadata": {},
   "outputs": [
    {
     "name": "stdout",
     "output_type": "stream",
     "text": [
      "El total de datos atípicos es 0\n"
     ]
    }
   ],
   "source": [
    "#Conteo de Datos Atípicos - colesterol\n",
    "\n",
    "nivel_minimo=40\n",
    "nivel_maximo=500\n",
    "Total_Atipicos=((Datos['chol']<nivel_minimo)|(Datos['chol']>nivel_maximo)).sum()\n",
    "print(\"El total de datos atípicos es {}\".format(Total_Atipicos))"
   ]
  },
  {
   "cell_type": "code",
   "execution_count": null,
   "id": "c55fa452-c869-4714-9572-08c9fd713451",
   "metadata": {},
   "outputs": [],
   "source": [
    "# Característica de interes:\n",
    "# Paciente con enfermedad cardiaca: si la persona tiene enfermedades cardiovasculares o no (0 = no tiene diabetes - 1 = si tiene diabetes)\n",
    "# Predecir si una persona tiene la presencia de enfermedades cardíacas"
   ]
  },
  {
   "cell_type": "code",
   "execution_count": 87,
   "id": "6d0df674-985f-483a-a4b7-ab4d352b1e3f",
   "metadata": {},
   "outputs": [
    {
     "data": {
      "text/plain": [
       "condition\n",
       "0    159\n",
       "1    137\n",
       "Name: count, dtype: int64"
      ]
     },
     "execution_count": 87,
     "metadata": {},
     "output_type": "execute_result"
    }
   ],
   "source": [
    "# Total de personas con enfermedades cardíacas\n",
    "\n",
    "Datos['condition'].value_counts()"
   ]
  },
  {
   "cell_type": "code",
   "execution_count": 101,
   "id": "db593fdc-7daa-4d38-ba22-4754d1108a30",
   "metadata": {},
   "outputs": [],
   "source": [
    "# Porcentaje de datos para entrenamiento (train) = 80% , y para prueba (test) = 20%\n",
    "\n",
    "# Se crean variables X y Y para almacenar la información del entrenamiento\n",
    "\n",
    "X = Datos.drop('condition',axis=1) # Se cargan los datos de train sin los datos de la columna Diabetico \n",
    "Y = Datos['condition'] # Se cargan los datos de train con los datos de la la columna Diabetico\n",
    "\n",
    "#La función train_test_split crea una división de un conjunto de datos en dos bloques uno de entrenamiento y otro de prueba (train and test)\n",
    "X_train, X_test, Y_train, Y_test = train_test_split(X, Y, test_size=0.20, stratify=Y, random_state= 0)"
   ]
  },
  {
   "cell_type": "code",
   "execution_count": 105,
   "id": "135a0e0f-2476-47b9-a9f3-0f0c06d57b0f",
   "metadata": {},
   "outputs": [
    {
     "name": "stdout",
     "output_type": "stream",
     "text": [
      "     age  sex  cp  trestbps  chol  fbs   restecg  thalach  exang  oldpeak  \\\n",
      "239   55    1   3       140   217    0  0.996633      111      1      5.6   \n",
      "64    41    0   1       130   204    0  2.000000      172      0      1.4   \n",
      "134   47    1   2       130   253    0  0.996633      179      0      0.0   \n",
      "31    58    1   1       120   284    0  2.000000      160      0      1.8   \n",
      "225   57    1   3       165   289    1  2.000000      124      0      1.0   \n",
      "..   ...  ...  ..       ...   ...  ...       ...      ...    ...      ...   \n",
      "73    71    0   2       110   265    1  2.000000      130      0      0.0   \n",
      "10    59    1   0       170   288    0  2.000000      159      0      0.2   \n",
      "154   37    0   2       120   215    0  0.996633      170      0      0.0   \n",
      "153   37    1   2       130   250    0  0.996633      187      0      3.5   \n",
      "200   60    1   3       125   258    0  2.000000      141      1      2.8   \n",
      "\n",
      "     slope  ca  thal  \n",
      "239      2   0     2  \n",
      "64       0   0     0  \n",
      "134      0   0     0  \n",
      "31       1   0     0  \n",
      "225      1   3     2  \n",
      "..     ...  ..   ...  \n",
      "73       0   1     0  \n",
      "10       1   0     2  \n",
      "154      0   0     0  \n",
      "153      2   0     0  \n",
      "200      1   1     2  \n",
      "\n",
      "[236 rows x 13 columns]\n"
     ]
    }
   ],
   "source": [
    "print (X_train)"
   ]
  },
  {
   "cell_type": "code",
   "execution_count": 107,
   "id": "469242eb-814e-42d7-9c4a-d1a4f277ddc4",
   "metadata": {},
   "outputs": [
    {
     "name": "stdout",
     "output_type": "stream",
     "text": [
      "     age  sex  cp  trestbps  chol  fbs   restecg  thalach  exang  oldpeak  \\\n",
      "162   67    1   3       125   254    1  0.996633      163      0      0.2   \n",
      "288   42    1   3       136   315    0  0.996633      125      1      1.8   \n",
      "117   52    1   2       172   199    1  0.996633      162      0      0.5   \n",
      "74    70    1   2       160   269    0  0.996633      112      1      2.9   \n",
      "96    59    1   2       126   218    1  0.996633      134      0      2.2   \n",
      "136   46    1   2       150   231    0  0.996633      147      0      3.6   \n",
      "129   49    1   2       118   149    0  2.000000      126      0      0.8   \n",
      "77    68    0   2       120   211    0  2.000000      115      0      1.5   \n",
      "272   46    0   3       138   243    0  2.000000      152      1      0.0   \n",
      "51    49    1   1       130   266    0  0.996633      171      0      0.6   \n",
      "55    46    0   1       105   204    0  0.996633      172      0      0.0   \n",
      "251   53    0   3       130   264    0  2.000000      143      0      0.4   \n",
      "220   58    1   3       150   270    0  2.000000      111      1      0.8   \n",
      "218   58    0   3       130   197    0  0.996633      131      0      0.6   \n",
      "132   47    1   2       138   257    0  2.000000      156      0      0.0   \n",
      "90    62    1   2       130   231    0  0.996633      146      0      1.8   \n",
      "270   47    1   3       110   275    0  2.000000      118      1      1.0   \n",
      "211   59    1   3       140   177    0  0.996633      162      1      0.0   \n",
      "201   60    0   3       150   258    0  2.000000      157      0      2.6   \n",
      "263   50    1   3       150   243    0  2.000000      128      0      2.6   \n",
      "63    41    1   1       135   203    0  0.996633      132      0      0.0   \n",
      "250   53    1   3       140   203    1  2.000000      155      1      3.1   \n",
      "14    56    1   0       120   193    0  2.000000      162      0      1.9   \n",
      "183   63    1   3       130   330    1  2.000000      132      1      1.8   \n",
      "178   64    0   3       180   325    0  0.996633      154      1      0.0   \n",
      "264   50    1   3       144   200    0  2.000000      126      1      0.9   \n",
      "249   54    1   3       140   239    0  0.996633      160      0      1.2   \n",
      "107   54    1   2       125   273    0  2.000000      152      0      0.5   \n",
      "217   58    1   3       146   218    0  0.996633      105      0      2.0   \n",
      "46    52    1   1       120   325    0  0.996633      172      0      0.2   \n",
      "252   53    1   3       123   282    0  0.996633       95      1      2.0   \n",
      "149   41    0   2       112   268    0  2.000000      172      1      0.0   \n",
      "138   44    0   2       118   242    0  0.996633      149      0      0.3   \n",
      "202   60    1   3       140   293    0  2.000000      170      0      1.2   \n",
      "276   45    0   3       138   236    0  2.000000      152      1      0.2   \n",
      "192   61    1   3       120   260    0  0.996633      140      1      3.6   \n",
      "244   54    1   3       124   266    0  2.000000      109      1      2.2   \n",
      "47    52    1   1       134   201    0  0.996633      158      0      0.8   \n",
      "152   39    0   2        94   199    0  0.996633      179      0      0.0   \n",
      "43    54    1   1       108   309    0  0.996633      156      0      0.0   \n",
      "99    58    1   2       105   240    0  2.000000      154      1      0.6   \n",
      "150   39    0   2       138   220    0  0.996633      152      0      0.0   \n",
      "109   54    0   2       110   214    0  0.996633      158      0      1.6   \n",
      "71    29    1   1       130   204    0  2.000000      202      0      0.0   \n",
      "35    57    1   1       154   232    0  2.000000      164      0      0.0   \n",
      "111   54    1   2       150   232    0  2.000000      165      0      1.6   \n",
      "133   47    1   2       108   243    0  0.996633      152      0      0.0   \n",
      "185   62    0   3       140   268    0  2.000000      160      0      3.6   \n",
      "296   35    1   3       126   282    0  2.000000      156      1      0.0   \n",
      "206   59    1   3       170   326    0  2.000000      140      1      3.4   \n",
      "39    56    1   1       130   221    0  2.000000      163      0      0.0   \n",
      "285   43    1   3       150   247    0  0.996633      171      0      1.5   \n",
      "118   51    1   2       100   222    0  0.996633      143      1      1.2   \n",
      "98    58    1   2       112   230    0  2.000000      165      0      2.5   \n",
      "30    59    1   1       140   221    0  0.996633      164      1      0.0   \n",
      "112   54    0   2       108   267    0  2.000000      167      0      0.0   \n",
      "163   67    1   3       100   299    0  2.000000      125      1      0.9   \n",
      "76    68    1   2       180   274    1  2.000000      150      1      1.6   \n",
      "95    60    0   2       120   178    1  0.996633       96      0      0.0   \n",
      "240   55    1   3       132   353    0  0.996633      132      1      1.2   \n",
      "\n",
      "     slope  ca  thal  \n",
      "162      1   2     2  \n",
      "288      1   0     1  \n",
      "117      0   0     2  \n",
      "74       1   1     2  \n",
      "96       1   1     1  \n",
      "136      1   0     0  \n",
      "129      0   3     0  \n",
      "77       1   0     0  \n",
      "272      1   0     0  \n",
      "51       0   0     0  \n",
      "55       0   0     0  \n",
      "251      1   0     0  \n",
      "220      0   0     2  \n",
      "218      1   0     0  \n",
      "132      0   0     0  \n",
      "90       1   3     2  \n",
      "270      1   1     0  \n",
      "211      0   1     2  \n",
      "201      1   2     2  \n",
      "263      1   0     2  \n",
      "63       1   0     1  \n",
      "250      2   0     2  \n",
      "14       1   0     2  \n",
      "183      0   3     2  \n",
      "178      0   0     0  \n",
      "264      1   0     2  \n",
      "249      0   0     0  \n",
      "107      2   1     0  \n",
      "217      1   1     2  \n",
      "46       0   0     0  \n",
      "252      1   2     2  \n",
      "149      0   0     0  \n",
      "138      1   1     0  \n",
      "202      1   2     2  \n",
      "276      1   0     0  \n",
      "192      1   1     2  \n",
      "244      1   1     2  \n",
      "47       0   1     0  \n",
      "152      0   0     0  \n",
      "43       0   0     2  \n",
      "99       1   0     2  \n",
      "150      1   0     0  \n",
      "109      1   0     0  \n",
      "71       0   0     0  \n",
      "35       0   1     0  \n",
      "111      0   0     2  \n",
      "133      0   0     0  \n",
      "185      2   2     0  \n",
      "296      0   0     2  \n",
      "206      2   0     2  \n",
      "39       0   0     2  \n",
      "285      0   0     0  \n",
      "118      1   0     0  \n",
      "98       1   1     2  \n",
      "30       0   0     0  \n",
      "112      0   0     0  \n",
      "163      1   2     0  \n",
      "76       1   0     2  \n",
      "95       0   0     0  \n",
      "240      1   1     2  \n"
     ]
    }
   ],
   "source": [
    "print (X_test)"
   ]
  },
  {
   "cell_type": "code",
   "execution_count": 109,
   "id": "1ce07d6a-897f-4946-a27a-2e5b4eb5abfe",
   "metadata": {},
   "outputs": [],
   "source": [
    "# Construir el modelo de regresión logística \n",
    "\n",
    "modelo_regresion = LogisticRegression(solver = \"liblinear\") # liblinear es una libreria para resolver problemas lineales de clasificación y regresión\n",
    "modelo_regresion.fit (X_train , Y_train)   \n",
    "\n",
    "# Crea el modelo de prediccion\n",
    "Prediccion = modelo_regresion.predict(X_test) # la función predict predice los valores a partir del conjunto de datos de validación"
   ]
  },
  {
   "cell_type": "code",
   "execution_count": 111,
   "id": "581ca1fa-465f-408e-bf3b-029ffdffc674",
   "metadata": {},
   "outputs": [
    {
     "data": {
      "text/html": [
       "<div>\n",
       "<style scoped>\n",
       "    .dataframe tbody tr th:only-of-type {\n",
       "        vertical-align: middle;\n",
       "    }\n",
       "\n",
       "    .dataframe tbody tr th {\n",
       "        vertical-align: top;\n",
       "    }\n",
       "\n",
       "    .dataframe thead th {\n",
       "        text-align: right;\n",
       "    }\n",
       "</style>\n",
       "<table border=\"1\" class=\"dataframe\">\n",
       "  <thead>\n",
       "    <tr style=\"text-align: right;\">\n",
       "      <th></th>\n",
       "      <th>age</th>\n",
       "      <th>sex</th>\n",
       "      <th>cp</th>\n",
       "      <th>trestbps</th>\n",
       "      <th>chol</th>\n",
       "      <th>fbs</th>\n",
       "      <th>restecg</th>\n",
       "      <th>thalach</th>\n",
       "      <th>exang</th>\n",
       "      <th>oldpeak</th>\n",
       "      <th>slope</th>\n",
       "      <th>ca</th>\n",
       "      <th>thal</th>\n",
       "    </tr>\n",
       "  </thead>\n",
       "  <tbody>\n",
       "    <tr>\n",
       "      <th>162</th>\n",
       "      <td>67</td>\n",
       "      <td>1</td>\n",
       "      <td>3</td>\n",
       "      <td>125</td>\n",
       "      <td>254</td>\n",
       "      <td>1</td>\n",
       "      <td>0.996633</td>\n",
       "      <td>163</td>\n",
       "      <td>0</td>\n",
       "      <td>0.2</td>\n",
       "      <td>1</td>\n",
       "      <td>2</td>\n",
       "      <td>2</td>\n",
       "    </tr>\n",
       "    <tr>\n",
       "      <th>288</th>\n",
       "      <td>42</td>\n",
       "      <td>1</td>\n",
       "      <td>3</td>\n",
       "      <td>136</td>\n",
       "      <td>315</td>\n",
       "      <td>0</td>\n",
       "      <td>0.996633</td>\n",
       "      <td>125</td>\n",
       "      <td>1</td>\n",
       "      <td>1.8</td>\n",
       "      <td>1</td>\n",
       "      <td>0</td>\n",
       "      <td>1</td>\n",
       "    </tr>\n",
       "    <tr>\n",
       "      <th>117</th>\n",
       "      <td>52</td>\n",
       "      <td>1</td>\n",
       "      <td>2</td>\n",
       "      <td>172</td>\n",
       "      <td>199</td>\n",
       "      <td>1</td>\n",
       "      <td>0.996633</td>\n",
       "      <td>162</td>\n",
       "      <td>0</td>\n",
       "      <td>0.5</td>\n",
       "      <td>0</td>\n",
       "      <td>0</td>\n",
       "      <td>2</td>\n",
       "    </tr>\n",
       "    <tr>\n",
       "      <th>74</th>\n",
       "      <td>70</td>\n",
       "      <td>1</td>\n",
       "      <td>2</td>\n",
       "      <td>160</td>\n",
       "      <td>269</td>\n",
       "      <td>0</td>\n",
       "      <td>0.996633</td>\n",
       "      <td>112</td>\n",
       "      <td>1</td>\n",
       "      <td>2.9</td>\n",
       "      <td>1</td>\n",
       "      <td>1</td>\n",
       "      <td>2</td>\n",
       "    </tr>\n",
       "    <tr>\n",
       "      <th>96</th>\n",
       "      <td>59</td>\n",
       "      <td>1</td>\n",
       "      <td>2</td>\n",
       "      <td>126</td>\n",
       "      <td>218</td>\n",
       "      <td>1</td>\n",
       "      <td>0.996633</td>\n",
       "      <td>134</td>\n",
       "      <td>0</td>\n",
       "      <td>2.2</td>\n",
       "      <td>1</td>\n",
       "      <td>1</td>\n",
       "      <td>1</td>\n",
       "    </tr>\n",
       "    <tr>\n",
       "      <th>136</th>\n",
       "      <td>46</td>\n",
       "      <td>1</td>\n",
       "      <td>2</td>\n",
       "      <td>150</td>\n",
       "      <td>231</td>\n",
       "      <td>0</td>\n",
       "      <td>0.996633</td>\n",
       "      <td>147</td>\n",
       "      <td>0</td>\n",
       "      <td>3.6</td>\n",
       "      <td>1</td>\n",
       "      <td>0</td>\n",
       "      <td>0</td>\n",
       "    </tr>\n",
       "    <tr>\n",
       "      <th>129</th>\n",
       "      <td>49</td>\n",
       "      <td>1</td>\n",
       "      <td>2</td>\n",
       "      <td>118</td>\n",
       "      <td>149</td>\n",
       "      <td>0</td>\n",
       "      <td>2.000000</td>\n",
       "      <td>126</td>\n",
       "      <td>0</td>\n",
       "      <td>0.8</td>\n",
       "      <td>0</td>\n",
       "      <td>3</td>\n",
       "      <td>0</td>\n",
       "    </tr>\n",
       "    <tr>\n",
       "      <th>77</th>\n",
       "      <td>68</td>\n",
       "      <td>0</td>\n",
       "      <td>2</td>\n",
       "      <td>120</td>\n",
       "      <td>211</td>\n",
       "      <td>0</td>\n",
       "      <td>2.000000</td>\n",
       "      <td>115</td>\n",
       "      <td>0</td>\n",
       "      <td>1.5</td>\n",
       "      <td>1</td>\n",
       "      <td>0</td>\n",
       "      <td>0</td>\n",
       "    </tr>\n",
       "    <tr>\n",
       "      <th>272</th>\n",
       "      <td>46</td>\n",
       "      <td>0</td>\n",
       "      <td>3</td>\n",
       "      <td>138</td>\n",
       "      <td>243</td>\n",
       "      <td>0</td>\n",
       "      <td>2.000000</td>\n",
       "      <td>152</td>\n",
       "      <td>1</td>\n",
       "      <td>0.0</td>\n",
       "      <td>1</td>\n",
       "      <td>0</td>\n",
       "      <td>0</td>\n",
       "    </tr>\n",
       "    <tr>\n",
       "      <th>51</th>\n",
       "      <td>49</td>\n",
       "      <td>1</td>\n",
       "      <td>1</td>\n",
       "      <td>130</td>\n",
       "      <td>266</td>\n",
       "      <td>0</td>\n",
       "      <td>0.996633</td>\n",
       "      <td>171</td>\n",
       "      <td>0</td>\n",
       "      <td>0.6</td>\n",
       "      <td>0</td>\n",
       "      <td>0</td>\n",
       "      <td>0</td>\n",
       "    </tr>\n",
       "  </tbody>\n",
       "</table>\n",
       "</div>"
      ],
      "text/plain": [
       "     age  sex  cp  trestbps  chol  fbs   restecg  thalach  exang  oldpeak  \\\n",
       "162   67    1   3       125   254    1  0.996633      163      0      0.2   \n",
       "288   42    1   3       136   315    0  0.996633      125      1      1.8   \n",
       "117   52    1   2       172   199    1  0.996633      162      0      0.5   \n",
       "74    70    1   2       160   269    0  0.996633      112      1      2.9   \n",
       "96    59    1   2       126   218    1  0.996633      134      0      2.2   \n",
       "136   46    1   2       150   231    0  0.996633      147      0      3.6   \n",
       "129   49    1   2       118   149    0  2.000000      126      0      0.8   \n",
       "77    68    0   2       120   211    0  2.000000      115      0      1.5   \n",
       "272   46    0   3       138   243    0  2.000000      152      1      0.0   \n",
       "51    49    1   1       130   266    0  0.996633      171      0      0.6   \n",
       "\n",
       "     slope  ca  thal  \n",
       "162      1   2     2  \n",
       "288      1   0     1  \n",
       "117      0   0     2  \n",
       "74       1   1     2  \n",
       "96       1   1     1  \n",
       "136      1   0     0  \n",
       "129      0   3     0  \n",
       "77       1   0     0  \n",
       "272      1   0     0  \n",
       "51       0   0     0  "
      ]
     },
     "execution_count": 111,
     "metadata": {},
     "output_type": "execute_result"
    }
   ],
   "source": [
    "X_test.head(10)"
   ]
  },
  {
   "cell_type": "code",
   "execution_count": 113,
   "id": "73b7361c-366f-4b63-987c-f598569a2da4",
   "metadata": {},
   "outputs": [
    {
     "name": "stdout",
     "output_type": "stream",
     "text": [
      "[1 1 0 1 0 0 1 0 0 0 0 0 1 0 0 1 1 1 1 1 0 1 0 1 0 1 0 1 1 0 1 0 0 1 0 1 1\n",
      " 0 0 0 1 0 0 0 0 0 0 1 1 1 0 0 0 1 0 0 1 1 0 1]\n"
     ]
    }
   ],
   "source": [
    "print (Prediccion)"
   ]
  },
  {
   "cell_type": "code",
   "execution_count": 115,
   "id": "33cb3760-0150-4cc1-90a2-8bbf99bb4bdd",
   "metadata": {},
   "outputs": [
    {
     "name": "stdout",
     "output_type": "stream",
     "text": [
      "              precision    recall  f1-score   support\n",
      "\n",
      "           0       0.88      0.91      0.89        32\n",
      "           1       0.89      0.86      0.87        28\n",
      "\n",
      "    accuracy                           0.88        60\n",
      "   macro avg       0.88      0.88      0.88        60\n",
      "weighted avg       0.88      0.88      0.88        60\n",
      "\n"
     ]
    }
   ],
   "source": [
    "# Desempeño del modelo de regresión\n",
    "\n",
    "print(classification_report(Y_test,Prediccion))"
   ]
  },
  {
   "cell_type": "code",
   "execution_count": 117,
   "id": "cf87236f-cdf2-4709-b47f-ffe9a0bfb40d",
   "metadata": {},
   "outputs": [
    {
     "data": {
      "text/plain": [
       "<sklearn.metrics._plot.confusion_matrix.ConfusionMatrixDisplay at 0x13a5a060>"
      ]
     },
     "execution_count": 117,
     "metadata": {},
     "output_type": "execute_result"
    },
    {
     "data": {
      "image/png": "[encoded data removed]",
      "text/plain": [
       "<Figure size 640x480 with 2 Axes>"
      ]
     },
     "metadata": {},
     "output_type": "display_data"
    }
   ],
   "source": [
    "#Matrix de Confusión del modelo\n",
    "\n",
    "cm=confusion_matrix(Y_test,Prediccion)\n",
    "disp=metrics.ConfusionMatrixDisplay(confusion_matrix=cm)\n",
    "disp.plot()"
   ]
  },
  {
   "cell_type": "code",
   "execution_count": 119,
   "id": "4494e6d9-8509-48d3-ad4c-9810a03f8f61",
   "metadata": {},
   "outputs": [
    {
     "data": {
      "image/png": "[encoded data removed]",
      "text/plain": [
       "<Figure size 640x480 with 1 Axes>"
      ]
     },
     "metadata": {},
     "output_type": "display_data"
    }
   ],
   "source": [
    "# Curva de precisón del modelo\n",
    "\n",
    "from sklearn.metrics import RocCurveDisplay\n",
    "RocCurveDisplay.from_predictions(Y_test, Prediccion)\n",
    "plt.show()"
   ]
  },
  {
   "cell_type": "code",
   "execution_count": null,
   "id": "a7da6a99-337a-4cf5-a47f-095280580b5e",
   "metadata": {},
   "outputs": [],
   "source": []
  }
 ],
 "metadata": {
  "kernelspec": {
   "display_name": "Python [conda env:base] *",
   "language": "python",
   "name": "conda-base-py"
  },
  "language_info": {
   "codemirror_mode": {
    "name": "ipython",
    "version": 3
   },
   "file_extension": ".py",
   "mimetype": "text/x-python",
   "name": "python",
   "nbconvert_exporter": "python",
   "pygments_lexer": "ipython3",
   "version": "3.12.7"
  }
 },
 "nbformat": 4,
 "nbformat_minor": 5
}
